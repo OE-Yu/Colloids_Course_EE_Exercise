{
 "cells": [
  {
   "cell_type": "markdown",
   "metadata": {},
   "source": [
    "## Langevin Dynamics\n",
    "This part of the tutorial covers how to write molecular dynamics data to a dump file in python and then visualize the output with OVITO.\n",
    "\n",
    "A spherical particle of size $R$ and mass $m$, dispersed in a solvent of viscosity $\\eta$, will experience a friction $\\gamma$ and a stochastic force $\\zeta(t)$. If $v(t)$ denotes the velocity of the particle, its motion will be described by the Langevin equation:\n",
    "\n",
    "$m \\frac{dv(t)}{dt} = -\\gamma v(t) + \\zeta(t)$, \n",
    "\n",
    "The foolowing code provide a simple molecular dynamics solver that simulates the motion of non-interacting particles in the canonical ensemble using a Langevin thermostat:\n"
   ]
  },
  {
   "cell_type": "markdown",
   "metadata": {},
   "source": [
    "### Step 1: Import library\n",
    "The following the head library we need to this code:"
   ]
  },
  {
   "cell_type": "code",
   "execution_count": null,
   "metadata": {},
   "outputs": [],
   "source": [
    "import numpy as np\n",
    "import matplotlib.pylab as plt\n",
    "import dump #This is pre-written to build up a dump file suit for OVITO to visualise the data - see Step 7\n",
    "\n",
    "# Define global physical constants\n",
    "Avogadro = 6.02214086e23\n",
    "Boltzmann = 1.38064852e-23"
   ]
  },
  {
   "cell_type": "markdown",
   "metadata": {},
   "source": [
    "### Step 2: This function enforces reflective boundary conditions. All particles that hit a wall  have their velocity updated in opposite direction.\n",
    "\n",
    "Notes:\n",
    "#pos: atomic positions (ndarray)\n",
    "#vels: atomic velocity (ndarray, updated if collisions detected)\n",
    "#box: simulation box size (tuple)\n"
   ]
  },
  {
   "cell_type": "code",
   "execution_count": null,
   "metadata": {},
   "outputs": [],
   "source": [
    "def wallHitCheck(pos, vels, box):\n",
    "    ndims = len(box)\n",
    "    for i in range(ndims):\n",
    "        vels[((pos[:,i] <= box[i][0]) | (pos[:,i] >= box[i][1])),i] *= -1"
   ]
  },
  {
   "cell_type": "markdown",
   "metadata": {},
   "source": [
    "### Step 3: A simple forward Euler integrator that moves the system in time "
   ]
  },
  {
   "cell_type": "code",
   "execution_count": null,
   "metadata": {},
   "outputs": [],
   "source": [
    "def integrate(pos, vels, forces, mass,  dt):\n",
    "    pos += vels * dt\n",
    "    vels += forces * dt / mass[np.newaxis].T"
   ]
  },
  {
   "cell_type": "markdown",
   "metadata": {},
   "source": [
    "### Step 4: Computes the Langevin force for all particles \n",
    "\n",
    "Notes:\n",
    "#mass: particle mass (ndarray)\n",
    "#temp: temperature (float)\n",
    "#relax: thermostat constant (float)\n",
    "#dt: simulation timestep (float)\n",
    "\n",
    "-> returns forces (ndarray)"
   ]
  },
  {
   "cell_type": "markdown",
   "metadata": {},
   "source": [
    "#### EXERCISE: complete the function below, needed for computing force in Langevin:"
   ]
  },
  {
   "cell_type": "code",
   "execution_count": null,
   "metadata": {},
   "outputs": [],
   "source": [
    "def computeForce(mass, vels, temp, relax, dt):\n",
    "\n",
    "    natoms, ndims = vels.shape\n",
    "\n",
    "    # Your code here...\n",
    "        # sigma = ...\n",
    "        # noise = ...\n",
    "        # force = ...\n",
    "        \n",
    "    return force"
   ]
  },
  {
   "cell_type": "markdown",
   "metadata": {},
   "source": [
    "#### SOLUTION (execute this cell if you wish to see the solution)"
   ]
  },
  {
   "cell_type": "code",
   "execution_count": null,
   "metadata": {},
   "outputs": [],
   "source": [
    "# %load solutions/computeForce.py"
   ]
  },
  {
   "cell_type": "markdown",
   "metadata": {},
   "source": [
    "### Step 5: This is the main function that solves Langevin's equations for a system of natoms usinga forward Euler scheme, and returns an output list that stores the time and the temperture.\n",
    " \n",
    "Notes:\n",
    "\n",
    "#natoms (int): number of particles\n",
    "#temp (float): temperature (in Kelvin)\n",
    "#mass (float): particle mass (in Kg)\n",
    "#relax (float): relaxation constant (in 1/seconds)\n",
    "#dt (float): simulation timestep (s)\n",
    "#nsteps (int): total number of steps the solver performs\n",
    "#box (tuple): simulation box size (in meters) of size dimensions x 2\n",
    "    e.g. box = ((-1e-9, 1e-9), (-1e-9, 1e-9)) defines a 2D square\n",
    "#ofname (string): filename to write output to\n",
    "#freq (int): write output every 'freq' steps\n",
    "#[radius]: particle radius (for visualization)\n",
    "    \n",
    "-> Returns a list (of size nsteps x 2) containing the time and temperature."
   ]
  },
  {
   "cell_type": "code",
   "execution_count": null,
   "metadata": {},
   "outputs": [],
   "source": [
    "\n",
    "def run(**args):\n",
    "\n",
    "    natoms, box, dt, temp = args['natoms'], args['box'], args['dt'], args['temp']\n",
    "    mass, relax, nsteps   = args['mass'], args['relax'], args['steps']\n",
    "    ofname, freq, radius = args['ofname'], args['freq'], args['radius']\n",
    "    \n",
    "    dim = len(box)\n",
    "    pos = np.random.rand(natoms,dim)\n",
    "\n",
    "    for i in range(dim):\n",
    "        pos[:,i] = box[i][0] + (box[i][1] -  box[i][0]) * pos[:,i]\n",
    "\n",
    "    vels = np.random.rand(natoms,dim)\n",
    "    mass = np.ones(natoms) * mass / Avogadro\n",
    "    radius = np.ones(natoms) * radius\n",
    "    step = 0\n",
    "\n",
    "    output = [] #initialization \n",
    "\n",
    "    while step <= nsteps:\n",
    "        step += 1\n",
    "        forces = computeForce(mass, vels, temp, relax, dt) # Compute all forces\n",
    "        integrate(pos, vels, forces, mass, dt) # Move the system in time\n",
    "        wallHitCheck(pos,vels,box) # Check if any particle has collided with the wall\n",
    "        ins_temp = np.sum(np.dot(mass, (vels - vels.mean(axis=0))**2)) / (Boltzmann * dim * natoms)\n",
    "        output.append([step * dt, ins_temp])  # Compute output (temperature)\n",
    "        \n",
    "        if not step%freq:\n",
    "            dump.writeOutput(ofname, natoms, step, box, radius=radius, pos=pos, v=vels)\n",
    "\n",
    "    return np.array(output)\n"
   ]
  },
  {
   "cell_type": "markdown",
   "metadata": {},
   "source": [
    "### Step 6: Run and plot the data, time $vs$ temperture"
   ]
  },
  {
   "cell_type": "code",
   "execution_count": null,
   "metadata": {},
   "outputs": [],
   "source": [
    "\n",
    "if __name__ == '__main__':\n",
    "\n",
    "    params = {\n",
    "        'natoms': 1000,\n",
    "        'temp': 300,\n",
    "        'mass': 0.001,\n",
    "        'radius': 120e-12,\n",
    "        'relax': 1e-13,\n",
    "        'dt': 1e-15,\n",
    "        'steps': 10000,\n",
    "        'freq': 100,\n",
    "        'box': ((0, 1e-8), (0, 1e-8), (0, 1e-8)),\n",
    "        'ofname': 'traj-hydrogen-3D.dump'\n",
    "        }\n",
    "\n",
    "    output = run(**params)\n",
    "\n",
    "    plt.plot(output[:,0] * 1e12, output[:,1])\n",
    "    plt.xlabel('Time (ps)')\n",
    "    plt.ylabel('Temp (K)')\n",
    "    plt.show()"
   ]
  },
  {
   "cell_type": "markdown",
   "metadata": {},
   "source": [
    "### Step 7: Create a dump file availiable for OVITO - load to see the code"
   ]
  },
  {
   "cell_type": "code",
   "execution_count": null,
   "metadata": {},
   "outputs": [],
   "source": [
    "# %load dump.py"
   ]
  },
  {
   "cell_type": "code",
   "execution_count": null,
   "metadata": {},
   "outputs": [],
   "source": []
  }
 ],
 "metadata": {
  "kernelspec": {
   "display_name": "Python 3",
   "language": "python",
   "name": "python3"
  },
  "language_info": {
   "codemirror_mode": {
    "name": "ipython",
    "version": 3
   },
   "file_extension": ".py",
   "mimetype": "text/x-python",
   "name": "python",
   "nbconvert_exporter": "python",
   "pygments_lexer": "ipython3",
   "version": "3.7.4"
  }
 },
 "nbformat": 4,
 "nbformat_minor": 2
}
