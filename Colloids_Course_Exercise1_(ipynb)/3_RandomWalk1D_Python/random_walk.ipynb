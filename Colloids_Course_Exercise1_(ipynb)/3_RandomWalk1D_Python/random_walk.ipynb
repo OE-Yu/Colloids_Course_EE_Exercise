{
 "cells": [
  {
   "cell_type": "code",
   "execution_count": null,
   "metadata": {
    "Collapsed": "false"
   },
   "outputs": [],
   "source": [
    "from matplotlib import pyplot as plt\n",
    "import numpy as np\n",
    "from numba import jitclass, int32, float64\n",
    "from tqdm.notebook import tqdm\n",
    "from random import random, gauss, seed\n",
    "from collections import namedtuple\n",
    "import operator\n",
    "import math\n",
    "\n",
    "from enum import Enum\n",
    "\n",
    "# Define RIGHT and LEFT direction\n",
    "class Direction(Enum):\n",
    "    RIGHT = 1\n",
    "    LEFT = -1\n",
    "\n",
    "\n",
    "# Initialize random number seed (for reproducibility)\n",
    "seed(42)"
   ]
  },
  {
   "cell_type": "markdown",
   "metadata": {
    "Collapsed": "false"
   },
   "source": [
    "# Class definitions"
   ]
  },
  {
   "cell_type": "code",
   "execution_count": null,
   "metadata": {
    "Collapsed": "false"
   },
   "outputs": [],
   "source": [
    "# Lattice class\n",
    "class Lattice:\n",
    "\n",
    "    def __init__(self, num_jumps, step_var=None):\n",
    "        self.MAX_LATTICE = 100000\n",
    "        self.distro = np.zeros(shape=(2 * self.MAX_LATTICE + 1,), dtype=np.int32)\n",
    "        self.n_jumps = num_jumps\n",
    "        self.step_var = step_var if step_var is not None else 1.0\n",
    "\n",
    "    def update_lattice(self, curr_pos):\n",
    "        if abs(curr_pos) < self.MAX_LATTICE:\n",
    "            self.distro[int(round(curr_pos)) + self.MAX_LATTICE] += 1\n",
    "        else:\n",
    "            pass\n",
    "\n",
    "    def return_results(self, norm):\n",
    "        discrete_distro = np.fromfunction(\n",
    "            lambda x: np.exp(\n",
    "                0.5 * np.log(2.0 / (self.n_jumps * math.pi * self.step_var))\n",
    "                - (((x - self.MAX_LATTICE) ** 2) / (2.0 * self.n_jumps * self.step_var))\n",
    "            ),\n",
    "            (2 * self.MAX_LATTICE + 1,),\n",
    "        )\n",
    "        continous_distro = np.fromfunction(\n",
    "            lambda x: (1 / np.sqrt(2 * math.pi * self.step_var * self.n_jumps))\n",
    "            * np.exp(-(x - self.MAX_LATTICE) ** 2 / (2 * self.step_var * self.n_jumps)),\n",
    "            (2 * self.MAX_LATTICE + 1,),\n",
    "        )\n",
    "        distro_mask_distro = self.distro > 0.5\n",
    "        distro_mask_analytical = discrete_distro > 1e-6\n",
    "        return (\n",
    "            (\n",
    "                np.argwhere(distro_mask_distro | distro_mask_analytical).flatten()\n",
    "                - self.MAX_LATTICE\n",
    "            ),\n",
    "            self.distro[distro_mask_distro | distro_mask_analytical] / (1000 * norm),\n",
    "            discrete_distro[distro_mask_distro | distro_mask_analytical],\n",
    "            continous_distro[distro_mask_distro | distro_mask_analytical],\n",
    "        )"
   ]
  },
  {
   "cell_type": "code",
   "execution_count": null,
   "metadata": {
    "Collapsed": "false"
   },
   "outputs": [],
   "source": [
    "# Sample class\n",
    "spec = [\n",
    "    (\"T_MAX\", int32),\n",
    "    (\"T0_MAX\", int32),\n",
    "    (\"msd\", float64[:]),\n",
    "    (\"count\", int32[:]),\n",
    "    (\"tt0\", int32[:]),\n",
    "    (\"origin\", float64[:]),\n",
    "    (\"t_vacf\", int32),\n",
    "]\n",
    "\n",
    "\n",
    "@jitclass(spec)\n",
    "class Sample(object):\n",
    "    def __init__(self):\n",
    "        self.T_MAX = 10000\n",
    "        self.T0_MAX = 100000\n",
    "        self.msd = np.zeros(self.T_MAX, dtype=np.float64)\n",
    "        self.count = np.zeros(self.T_MAX, dtype=np.int32)\n",
    "        self.tt0 = np.zeros(self.T0_MAX, dtype=np.int32)\n",
    "        self.origin = np.zeros(self.T0_MAX, dtype=np.float64)\n",
    "        self.t_vacf = 0\n",
    "\n",
    "    def start_new_walk(self):\n",
    "        # reset t_vacf\n",
    "        self.t_vacf = 0\n",
    "\n",
    "    def sample_walk(self, curr_pos):\n",
    "        # update parameters\n",
    "        self.t_vacf += 1\n",
    "        t_tel = (self.t_vacf - 1) % self.T0_MAX\n",
    "        self.tt0[t_tel] = self.t_vacf\n",
    "        self.origin[t_tel] = curr_pos\n",
    "\n",
    "        # slice time interval\n",
    "        dt = self.t_vacf - self.tt0[: min(self.t_vacf, self.T0_MAX)]\n",
    "        pos = curr_pos - self.origin[: min(self.t_vacf, self.T0_MAX)]\n",
    "\n",
    "        # update count and msd\n",
    "        dt = dt[dt < self.T_MAX]\n",
    "        self.count[dt] += 1\n",
    "        self.msd[dt] += pos[:dt.shape[0]] ** 2\n",
    "\n",
    "    def return_results(self):\n",
    "        count_mask = self.count > 0.5\n",
    "        return self.msd[count_mask] / self.count[count_mask]"
   ]
  },
  {
   "cell_type": "markdown",
   "metadata": {
    "Collapsed": "false"
   },
   "source": [
    "# Convenience functions"
   ]
  },
  {
   "cell_type": "code",
   "execution_count": null,
   "metadata": {
    "Collapsed": "false"
   },
   "outputs": [],
   "source": [
    "# Function to plot the results\n",
    "def plot_results(\n",
    "    xbins,\n",
    "    distribution,\n",
    "    discrete_distribution,\n",
    "    analytical_distribution,\n",
    "    msd,\n",
    "    N_JUMPS=100,\n",
    "    N_CYCLES=100,\n",
    "    step=1,\n",
    "    format_fig=\"pdf\",\n",
    "    method=\"unbiased\",\n",
    "):\n",
    "    with plt.rc_context({\"figure.dpi\": 150}):\n",
    "        fig = plt.figure(figsize=(8, 4))\n",
    "        plt.subplot(1, 2, 1)\n",
    "        ax = plt.bar(xbins, height=distribution, width=0.4, label=\"Statistical\")\n",
    "        ax = plt.plot(xbins, discrete_distribution, \"ro\", label=\"Discrete\")\n",
    "        ax = plt.plot(xbins, analytical_distribution, \"go\", label=\"Continuous\")\n",
    "        plt.xlabel(\"X (lattice position)\")\n",
    "        plt.ylabel(f\"P(X, {N_JUMPS})\")\n",
    "        plt.legend(loc=\"best\")\n",
    "\n",
    "        plt.subplot(1, 2, 2)\n",
    "        ax = plt.plot(msd, \"o\", ms=2, label=\"Statistical\")\n",
    "        ax = plt.plot(step * np.arange(N_JUMPS, dtype=np.float64), \"r\", label=\"Analytical\")\n",
    "        plt.xscale(\"log\")\n",
    "        plt.yscale(\"log\")\n",
    "        plt.xlabel(\"N (Number of steps)\")\n",
    "        plt.ylabel(\"<$X^2$(N)>\")\n",
    "        plt.legend(loc=\"best\")\n",
    "\n",
    "        fig.suptitle(\n",
    "            f\"Random walk of {N_JUMPS} steps (averaged over {N_CYCLES} cycles)\",\n",
    "            fontsize=16,\n",
    "        )\n",
    "        fig.subplots_adjust(wspace=0.3)\n",
    "        plt.savefig(f\"NJUMPS_{N_JUMPS}_CYCLES_{N_CYCLES}_{method}.{format_fig}\")"
   ]
  },
  {
   "cell_type": "code",
   "execution_count": null,
   "metadata": {
    "Collapsed": "false"
   },
   "outputs": [],
   "source": [
    "def random_walk(N_JUMPS=100, N_CYCLES=10, method=\"unbiased\"):\n",
    "\n",
    "    # Create random, lattice and sample instances\n",
    "    random = RandomStep(method)\n",
    "    lattice = Lattice(N_JUMPS, random.step_var)\n",
    "    sample = Sample()\n",
    "\n",
    "    # Main loop\n",
    "    for i in tqdm(range(N_CYCLES)):\n",
    "        for j in range(1000):\n",
    "            sample.start_new_walk()\n",
    "            curr_pos = 0.0\n",
    "            for k in range(N_JUMPS):\n",
    "                curr_pos = random.perform_random_step(curr_pos)\n",
    "                sample.sample_walk(curr_pos)\n",
    "\n",
    "            lattice.update_lattice(curr_pos)\n",
    "\n",
    "    return sample, lattice"
   ]
  },
  {
   "cell_type": "code",
   "execution_count": null,
   "metadata": {
    "Collapsed": "false"
   },
   "outputs": [],
   "source": [
    "def main(N_JUMPS, N_CYCLES, method=\"unbiased\"):\n",
    "\n",
    "    # Perform random walk of N_JUMPS steps, averaging over N_CYCLE executions.\n",
    "    sample, lattice = random_walk(N_JUMPS, N_CYCLES, method)\n",
    "\n",
    "    #  Return MSD and distributions\n",
    "    msd = sample.return_results()\n",
    "    xbins, distro, discrete_distro, continuous_distro = lattice.return_results(N_CYCLES)\n",
    "\n",
    "    # Plot results\n",
    "    plot_results(\n",
    "        xbins,\n",
    "        distro,\n",
    "        discrete_distro,\n",
    "        continuous_distro,\n",
    "        msd,\n",
    "        step=lattice.step_var,\n",
    "        N_JUMPS=N_JUMPS,\n",
    "        N_CYCLES=N_CYCLES,\n",
    "        method=method,\n",
    "    )"
   ]
  },
  {
   "cell_type": "code",
   "execution_count": null,
   "metadata": {
    "Collapsed": "false"
   },
   "outputs": [],
   "source": [
    "class RandomStep(object):\n",
    "    \"\"\" \n",
    "        method: random step method (unbiased, biased or off_lattice)\n",
    "        step_var: step length variance <l^2> \n",
    "        \n",
    "        perform_random_step(pos): given a position value `pos`,\n",
    "            returns the updated position after performing a random step\n",
    "        \n",
    "    \"\"\"\n",
    "    METHODS = [\"unbiased\", \"biased\", \"off_lattice\"]\n",
    "\n",
    "    def __init__(self, method):\n",
    "        self.method = method\n",
    "        self.step_var = 1.0\n",
    "\n",
    "    method = property(operator.attrgetter(\"_method\"))\n",
    "\n",
    "    @method.setter\n",
    "    def method(self, m):\n",
    "        if not (m in self.METHODS):\n",
    "            raise Exception(\"Invalid method.\")\n",
    "        self._method = m\n",
    "\n",
    "    def perform_random_step(self, pos):\n",
    "        if self.method == \"unbiased\":\n",
    "            if random() < 0.5:\n",
    "                return pos + Direction.RIGHT.value\n",
    "            else:\n",
    "                return pos + Direction.LEFT.value\n",
    "\n",
    "        elif self.method == \"biased\":\n",
    "            return pos\n",
    "\n",
    "        elif self.method == \"off_lattice\":\n",
    "            return pos \n",
    "\n",
    "        else:\n",
    "            return pos"
   ]
  },
  {
   "cell_type": "markdown",
   "metadata": {
    "Collapsed": "false"
   },
   "source": [
    "# Run the program"
   ]
  },
  {
   "cell_type": "code",
   "execution_count": null,
   "metadata": {},
   "outputs": [],
   "source": [
    "main(100, 10)"
   ]
  },
  {
   "cell_type": "markdown",
   "metadata": {
    "Collapsed": "false"
   },
   "source": [
    "# EXERCISE_1: add bias to the `RandomStep` class"
   ]
  },
  {
   "cell_type": "code",
   "execution_count": null,
   "metadata": {
    "Collapsed": "false"
   },
   "outputs": [],
   "source": [
    "class RandomStep(object):\n",
    "    \"\"\" \n",
    "        method: random step method (unbiased, biased or off_lattice)\n",
    "        step_var: step length variance <l^2> \n",
    "        \n",
    "        perform_random_step(pos): given a position value `pos`,\n",
    "            returns the updated position after performing a random step\n",
    "        \n",
    "    \"\"\"\n",
    "    METHODS = [\"unbiased\", \"biased\", \"off_lattice\"]\n",
    "\n",
    "    def __init__(self, method):\n",
    "        self.method = method\n",
    "        self.step_var = 1.0\n",
    "\n",
    "    method = property(operator.attrgetter(\"_method\"))\n",
    "\n",
    "    @method.setter\n",
    "    def method(self, m):\n",
    "        if not (m in self.METHODS):\n",
    "            raise Exception(\"Invalid method.\")\n",
    "        self._method = m\n",
    "\n",
    "    def perform_random_step(self, pos):\n",
    "        if self.method == \"unbiased\":\n",
    "            if random() < 0.5:\n",
    "                return pos + Direction.RIGHT.value\n",
    "            else:\n",
    "                return pos + Direction.LEFT.value\n",
    "\n",
    "        elif self.method == \"biased\":\n",
    "            # YOUR CODE HERE ...\n",
    "            return pos\n",
    "\n",
    "        elif self.method == \"off_lattice\":\n",
    "            return pos\n",
    "\n",
    "        else:\n",
    "            return pos"
   ]
  },
  {
   "cell_type": "markdown",
   "metadata": {
    "Collapsed": "false"
   },
   "source": [
    "# SOLUTION (execute this cell if you wish to see the solution)"
   ]
  },
  {
   "cell_type": "code",
   "execution_count": null,
   "metadata": {
    "Collapsed": "false"
   },
   "outputs": [],
   "source": [
    "# %load solutions/random_walk_bias.py"
   ]
  },
  {
   "cell_type": "markdown",
   "metadata": {
    "Collapsed": "false"
   },
   "source": [
    "# Re-run with method 'biased'"
   ]
  },
  {
   "cell_type": "code",
   "execution_count": null,
   "metadata": {
    "Collapsed": "false"
   },
   "outputs": [],
   "source": [
    "main(100, 10, method=\"biased\")"
   ]
  },
  {
   "cell_type": "markdown",
   "metadata": {
    "Collapsed": "false"
   },
   "source": [
    "# EXERCISE_2: add off-lattice to the `RandomStep` class"
   ]
  },
  {
   "cell_type": "code",
   "execution_count": null,
   "metadata": {
    "Collapsed": "false"
   },
   "outputs": [],
   "source": [
    "class RandomStep(object):\n",
    "    \"\"\" \n",
    "        method: random step method (unbiased, biased or off_lattice)\n",
    "        step_var: step length variance <l^2> \n",
    "        \n",
    "        perform_random_step(pos): given a position value `pos`,\n",
    "            returns the updated position after performing a random step\n",
    "        \n",
    "    \"\"\"\n",
    "    METHODS = [\"unbiased\", \"biased\", \"off_lattice\"]\n",
    "\n",
    "    def __init__(self, method):\n",
    "        self.method = method\n",
    "        self.step_var = 1.0\n",
    "\n",
    "    method = property(operator.attrgetter(\"_method\"))\n",
    "\n",
    "    @method.setter\n",
    "    def method(self, m):\n",
    "        if not (m in self.METHODS):\n",
    "            raise Exception(\"Invalid method.\")\n",
    "        self._method = m\n",
    "\n",
    "    def perform_random_step(self, pos):\n",
    "        if self.method == \"unbiased\":\n",
    "            if random() < 0.5:\n",
    "                return pos + Direction.RIGHT.value\n",
    "            else:\n",
    "                return pos + Direction.LEFT.value\n",
    "\n",
    "        elif self.method == \"biased\":\n",
    "            # YOUR CODE HERE FROM EXERCISE_1 ...\n",
    "            return pos\n",
    "\n",
    "        elif self.method == \"off_lattice\":\n",
    "            # YOUR CODE HERE ...\n",
    "            return pos\n",
    "\n",
    "        else:\n",
    "            return pos"
   ]
  },
  {
   "cell_type": "markdown",
   "metadata": {
    "Collapsed": "false"
   },
   "source": [
    "# SOLUTION (execute this cell if you wish to see the solution)"
   ]
  },
  {
   "cell_type": "code",
   "execution_count": null,
   "metadata": {
    "Collapsed": "false"
   },
   "outputs": [],
   "source": [
    "# %load solutions/random_walk_off_lattice.py"
   ]
  },
  {
   "cell_type": "markdown",
   "metadata": {
    "Collapsed": "false"
   },
   "source": [
    "# Re-run with method 'off_lattice'"
   ]
  },
  {
   "cell_type": "code",
   "execution_count": null,
   "metadata": {
    "Collapsed": "false"
   },
   "outputs": [],
   "source": [
    "main(100, 10, method=\"off_lattice\")"
   ]
  }
 ],
 "metadata": {
  "kernelspec": {
   "display_name": "Python 3",
   "language": "python",
   "name": "python3"
  },
  "language_info": {
   "codemirror_mode": {
    "name": "ipython",
    "version": 3
   },
   "file_extension": ".py",
   "mimetype": "text/x-python",
   "name": "python",
   "nbconvert_exporter": "python",
   "pygments_lexer": "ipython3",
   "version": "3.7.4"
  }
 },
 "nbformat": 4,
 "nbformat_minor": 4
}
