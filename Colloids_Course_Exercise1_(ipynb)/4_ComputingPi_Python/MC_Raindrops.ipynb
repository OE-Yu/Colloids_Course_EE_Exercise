{
 "cells": [
  {
   "cell_type": "code",
   "execution_count": null,
   "metadata": {
    "Collapsed": "false",
    "collapsed": false,
    "jupyter": {
     "outputs_hidden": false
    }
   },
   "outputs": [],
   "source": [
    "import matplotlib\n",
    "from matplotlib import pyplot as plt\n",
    "import numpy\n",
    "from random import *"
   ]
  },
  {
   "cell_type": "code",
   "execution_count": null,
   "metadata": {
    "Collapsed": "false"
   },
   "outputs": [],
   "source": [
    "#Script to compute Pi by counting the number of randomly chosen points (rainfdrops) falling in a cricle of unity radius \n",
    "#divided the number of points falling onto a unity square encompassing the circle."
   ]
  },
  {
   "cell_type": "code",
   "execution_count": null,
   "metadata": {
    "Collapsed": "false",
    "collapsed": false,
    "jupyter": {
     "outputs_hidden": false
    }
   },
   "outputs": [],
   "source": [
    "def rain_drop(length_of_field=1):\n",
    "    #Simulate a random rain drop\n",
    "    return[(.5 - random())*length_of_field, (.5 - random())*length_of_field]"
   ]
  },
  {
   "cell_type": "code",
   "execution_count": null,
   "metadata": {
    "Collapsed": "false"
   },
   "outputs": [],
   "source": [
    "def is_point_in_circle(point, length_of_field=1):\n",
    "    #Return True if point is in inscribed circle\n",
    "     return (point[0])**2 + (point[1])**2 <= (length_of_field /2 )**2"
   ]
  },
  {
   "cell_type": "code",
   "execution_count": null,
   "metadata": {
    "Collapsed": "false",
    "collapsed": false,
    "jupyter": {
     "outputs_hidden": false
    }
   },
   "outputs": [],
   "source": [
    "def plot_rain_drops(drops_in_circle, drops_out_of_circle, length_of_field=1, format='pdf'):\n",
    "    #Function to draw rain drops\n",
    "    number_of_drops_in_circle=len(drops_in_circle)\n",
    "    number_of_drops_out_circle=len(drops_out_of_circle)\n",
    "    number_of_drops = number_of_drops_in_circle + number_of_drops_out_circle\n",
    "    plt.figure()\n",
    "    plt.xlim(-length_of_field/2, length_of_field/2)\n",
    "    plt.ylim(-length_of_field/2, length_of_field/2)\n",
    "    plt.scatter([e[0] for e in drops_in_circle], [e[1] for e in drops_in_circle], color='black', label=\"Drops in cricle\")\n",
    "    plt.scatter([e[0] for e in drops_out_of_circle], [e[1] for e in drops_out_of_circle], color='blue', label=\"Drops out of cricle\")\n",
    "    plt.legend(loc=\"center\")\n",
    "    plt.title(\"%s drops: %s landed in circle, estimating $\\pi$ as %.4f.\" % (number_of_drops, number_of_drops_in_circle, 4*number_of_drops_in_circle/number_of_drops))\n",
    "    plt.savefig(\"%s_darts.%s\" % (number_of_drops, format))"
   ]
  },
  {
   "cell_type": "code",
   "execution_count": null,
   "metadata": {
    "Collapsed": "false",
    "collapsed": false,
    "jupyter": {
     "outputs_hidden": false
    }
   },
   "outputs": [],
   "source": [
    "def rain(number_of_drops=1000, length_of_field=1, plot=True, format='pdf', dynamic=False):\n",
    "    #Function to make rain drops.\n",
    "    number_of_drops_in_circle=0\n",
    "    drops_in_circle = []\n",
    "    drops_out_of_circle =[]\n",
    "    pi_estimate =[]\n",
    "    for k in range(number_of_drops):\n",
    "        d = (rain_drop(length_of_field))\n",
    "        if is_point_in_circle(d, length_of_field):\n",
    "            drops_in_circle.append(d)\n",
    "            number_of_drops_in_circle += 1\n",
    "        else:\n",
    "            drops_out_of_circle.append(d)\n",
    "        if dynamic: # The dynamic option if set to True will plot every new drop (this can be used to create animations of he simulation)\n",
    "            print(\"Plotting drop number: %d\", (k+1))\n",
    "\n",
    "            plot_rain_drops(drops_in_circle, drops_out_of_circle, length_of_field, format)\n",
    "            pi_estimate.append(4*number_of_drops_in_circle / (k+1)) # This updates the list with the newest estimate for pi.\n",
    "            \n",
    "            # Plot the pi estimates\n",
    "            plt.figure()\n",
    "            plt.scatter(range(1, number_of_drops +1), pi_estimate)\n",
    "            max_x = plt.xlin()[1]\n",
    "            plt.hlines(pi, 0, max_x, color='black')\n",
    "            plt.xlin(0, max_x)\n",
    "            plt.title(\"$\\pi$ estimateagainst number of drops\")\n",
    "            plt.xlable(\"Number of rain drops\")\n",
    "            plt.ylable(\"$\\pi$\")\n",
    "            plt.savefig(\"Pi_estimate_for_%s_drops_thrown.pdf\" % number_of_drops)\n",
    "        \n",
    "    if plot and not dynamic:\n",
    "            # If the pplot option is passed and matplotlib is installed this plots\n",
    "            # the final set of drops\n",
    "            plot_rain_drops(drops_in_circle, drops_out_of_circle, length_of_field, format)\n",
    "    \n",
    "    return [number_of_drops_in_circle, drops_out_of_circle]\n",
    "    if __name__ == \"__main__\":\n",
    "        # Run the script from cli\n",
    "        from sys import argv\n",
    "        number_of_drops = 100\n",
    "        if len(argv) >1: # If an argument is passed then change number of drops to be simulated.\n",
    "            number_of_drops - eval(argv[1])\n",
    "            # Two sets of simulations (comment out the unwanted one).\n",
    "            # r = rain(number_of_drops, plot=True, format='png', dynamic=True)\n",
    "            r = rain(number_of_drops, plot=True, format='png', dynamic=False)\n",
    "\n",
    "            # Print to screen:\n",
    "            print(\"__________________________\")\n",
    "            print(\"%s darts thrown\" % number_of_drops)\n",
    "            print(\"pi esimated as:\")\n",
    "            print(\"\\t%s\" % (4*r[0]/r[1]))\n",
    "            print(\"___________________________\")\n",
    "            Estimate_pi.py\n"
   ]
  },
  {
   "cell_type": "code",
   "execution_count": null,
   "metadata": {
    "Collapsed": "false",
    "collapsed": false,
    "jupyter": {
     "outputs_hidden": false
    }
   },
   "outputs": [],
   "source": [
    "rain(format='png')"
   ]
  },
  {
   "cell_type": "code",
   "execution_count": null,
   "metadata": {
    "Collapsed": "false"
   },
   "outputs": [],
   "source": []
  }
 ],
 "metadata": {
  "anaconda-cloud": {},
  "kernelspec": {
   "display_name": "Python 3",
   "language": "python",
   "name": "python3"
  },
  "language_info": {
   "codemirror_mode": {
    "name": "ipython",
    "version": 3
   },
   "file_extension": ".py",
   "mimetype": "text/x-python",
   "name": "python",
   "nbconvert_exporter": "python",
   "pygments_lexer": "ipython3",
   "version": "3.7.6"
  }
 },
 "nbformat": 4,
 "nbformat_minor": 4
}
