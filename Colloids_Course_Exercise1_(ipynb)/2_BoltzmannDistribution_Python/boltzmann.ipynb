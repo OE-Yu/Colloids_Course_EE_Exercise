{
 "cells": [
  {
   "cell_type": "code",
   "execution_count": null,
   "metadata": {
    "Collapsed": "false"
   },
   "outputs": [],
   "source": [
    "from matplotlib import pyplot as plt\n",
    "import numpy as np\n",
    "from tqdm.notebook import tqdm\n",
    "import warnings"
   ]
  },
  {
   "cell_type": "markdown",
   "metadata": {
    "Collapsed": "false"
   },
   "source": [
    "## Convenience functions"
   ]
  },
  {
   "cell_type": "code",
   "execution_count": null,
   "metadata": {
    "Collapsed": "false"
   },
   "outputs": [],
   "source": [
    "def calculate_boltzmann(N=10000, T=1000, method=\"classic\"):\n",
    "    # Print to screen\n",
    "    print(f\"Number of energy levels: {N}\")\n",
    "    print(f\"Temperature: {T}\")\n",
    "    if (N < 2) | (N > 10000) | (T < 1e-7) | (T > 1e7):\n",
    "        print(\"Error in input parameters.\")\n",
    "        return -1\n",
    "\n",
    "    # Define beta factor\n",
    "    beta = 1.0 / T\n",
    "\n",
    "    # Calculate energy level occupancy\n",
    "    level_occupancy = np.fromfunction(\n",
    "        lambda n: boltzmann_factor(n, beta=beta, method=method), (N,), dtype=int\n",
    "    )\n",
    "\n",
    "    # Normalize\n",
    "    norm_factor = level_occupancy.sum()\n",
    "    if norm_factor == 0:\n",
    "        warnings.warn(\n",
    "            \"Warning: bad luck... you didn't complete the exercise, and now you are trying to divide by 0...\"\n",
    "        )\n",
    "\n",
    "    level_occupancy = np.true_divide(\n",
    "        level_occupancy,\n",
    "        norm_factor,\n",
    "        out=np.zeros_like(level_occupancy),\n",
    "        where=norm_factor != 0,\n",
    "    )\n",
    "\n",
    "    return level_occupancy"
   ]
  },
  {
   "cell_type": "code",
   "execution_count": null,
   "metadata": {
    "Collapsed": "false"
   },
   "outputs": [],
   "source": [
    "def main(N=10000, T_array=[1, 10, 100, 1000], method=\"nondegenerate\", format_fig=\"pdf\"):\n",
    "    \"\"\"N : number of particles\n",
    "       T_array: array of temperatures\n",
    "       method: method to specify degeneracy and energy of a single level\n",
    "    \"\"\"\n",
    "    if not isinstance(T_array, list):\n",
    "        T_array = [T_array]\n",
    "\n",
    "    for T in T_array:\n",
    "        distribution = calculate_boltzmann(N=10000, T=T, method=method)\n",
    "\n",
    "        #  Clip distribution on the lower end\n",
    "        threshold = np.argwhere(distribution > 1e-6)\n",
    "\n",
    "        ax = plt.plot(threshold, distribution[threshold], \"--o\", ms=4, label=f\"T={T}\")\n",
    "\n",
    "    plt.xscale(\"log\")\n",
    "    plt.yscale(\"log\")\n",
    "    plt.legend(loc=\"best\")\n",
    "    plt.xlabel(\"Energy Level E\")\n",
    "    plt.ylabel(\"P(E)\")\n",
    "    plt.title(\n",
    "        f\"Energy level occupancy according to a Boltzmann distribution ({method})\",\n",
    "        fontsize=10,\n",
    "    )\n",
    "    plt.savefig(f\"energy_occupancy_{method}.{format_fig}\")"
   ]
  },
  {
   "cell_type": "markdown",
   "metadata": {
    "Collapsed": "false"
   },
   "source": [
    "# EXERCISE: complete the function below, needed for the function `calculate_boltzmann`"
   ]
  },
  {
   "cell_type": "code",
   "execution_count": null,
   "metadata": {
    "Collapsed": "false"
   },
   "outputs": [],
   "source": [
    "def boltzmann_factor(n, beta, method):\n",
    "    \"\"\" n: energy level (in integer units) \n",
    "        beta: temperature factor\n",
    "        method: method to specify degeneracy and energy of a single level\n",
    "    \"\"\"\n",
    "    if isinstance(n, np.ndarray):\n",
    "        factor = np.zeros(shape=n.shape)\n",
    "    else:\n",
    "        factor = 0\n",
    "\n",
    "    if method == \"nondegenerate\":\n",
    "        factor = np.exp(-beta * n)\n",
    "    elif method == \"degenerate\":\n",
    "        # your code here...\n",
    "        pass\n",
    "    elif method == \"rotor\":\n",
    "        # your code here...\n",
    "        pass\n",
    "    else:\n",
    "        print(\"Invalid method.\")\n",
    "        return -1\n",
    "\n",
    "    return factor"
   ]
  },
  {
   "cell_type": "markdown",
   "metadata": {
    "Collapsed": "false"
   },
   "source": [
    "# SOLUTION (execute this cell if you wish to see the solution)"
   ]
  },
  {
   "cell_type": "code",
   "execution_count": null,
   "metadata": {
    "Collapsed": "false"
   },
   "outputs": [],
   "source": [
    "# %load solutions/boltzmann.py"
   ]
  },
  {
   "cell_type": "markdown",
   "metadata": {
    "Collapsed": "false"
   },
   "source": [
    "# Run the program"
   ]
  },
  {
   "cell_type": "code",
   "execution_count": null,
   "metadata": {
    "Collapsed": "false"
   },
   "outputs": [],
   "source": [
    "main(N=10000, T_array=[1, 10, 100, 1000], method=\"nondegenerate\")"
   ]
  },
  {
   "cell_type": "code",
   "execution_count": null,
   "metadata": {
    "Collapsed": "false"
   },
   "outputs": [],
   "source": [
    "main(N=10000, T_array=[1, 10, 100, 1000], method=\"degenerate\")"
   ]
  },
  {
   "cell_type": "code",
   "execution_count": null,
   "metadata": {
    "Collapsed": "false"
   },
   "outputs": [],
   "source": [
    "main(N=10000, T_array=[1, 10, 100, 1000], method=\"rotor\")"
   ]
  }
 ],
 "metadata": {
  "kernelspec": {
   "display_name": "Python 3",
   "language": "python",
   "name": "python3"
  },
  "language_info": {
   "codemirror_mode": {
    "name": "ipython",
    "version": 3
   },
   "file_extension": ".py",
   "mimetype": "text/x-python",
   "name": "python",
   "nbconvert_exporter": "python",
   "pygments_lexer": "ipython3",
   "version": "3.7.4"
  }
 },
 "nbformat": 4,
 "nbformat_minor": 4
}
