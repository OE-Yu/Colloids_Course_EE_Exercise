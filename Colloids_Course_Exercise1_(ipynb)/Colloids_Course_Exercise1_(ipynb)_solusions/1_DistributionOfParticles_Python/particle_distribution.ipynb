{
 "cells": [
  {
   "cell_type": "code",
   "execution_count": 1,
   "metadata": {
    "Collapsed": "false"
   },
   "outputs": [],
   "source": [
    "from matplotlib import pyplot as plt\n",
    "import numpy as np\n",
    "from random import randint, seed\n",
    "from tqdm.notebook import tqdm\n",
    "\n",
    "# Initialize random number seed (for reproducibility)\n",
    "seed(42)\n"
   ]
  },
  {
   "cell_type": "markdown",
   "metadata": {
    "Collapsed": "false"
   },
   "source": [
    "## Convenience functions"
   ]
  },
  {
   "cell_type": "code",
   "execution_count": 2,
   "metadata": {
    "Collapsed": "false"
   },
   "outputs": [],
   "source": [
    "# Function that returns the estimate of fac(n) for large numbers\n",
    "# - If n is a scalar, it returns a scalar\n",
    "# - If n is an array, it returns an array\n",
    "\n",
    "def large_num_factorial(n):\n",
    "    if isinstance(n, np.ndarray):\n",
    "        f = np.zeros(shape=n.shape)\n",
    "        for i, el in enumerate(n):\n",
    "            f[i] = np.log(range(2, el + 1)).sum()\n",
    "    elif isinstance(n, int):\n",
    "        f = 0.\n",
    "        for j in range(2, n + 1):\n",
    "            f += np.log(j)\n",
    "    else:\n",
    "        print('Error: input is not an integer nor an array of integers.')\n",
    "        return -1\n",
    "    \n",
    "    return f"
   ]
  },
  {
   "cell_type": "code",
   "execution_count": 3,
   "metadata": {
    "Collapsed": "false"
   },
   "outputs": [],
   "source": [
    "# Function to plot the distributions\n",
    "def plot_distributions(distribution, analytical_distribution, N=100, P=5, format_fig='pdf'):\n",
    "    xbins = list(range(len(distribution)))\n",
    "    with plt.rc_context({\"figure.dpi\": 150}):\n",
    "        ax=plt.bar(xbins, height=distribution, width=0.4, label='Statistical')\n",
    "        ax=plt.plot(xbins, analytical_distribution, 'ro', label='Analytical')\n",
    "    \n",
    "    \n",
    "    plt.xlabel('N')\n",
    "    plt.legend(loc=\"best\")\n",
    "    plt.title(f\"Probability of having N particles out of {N} in a compartment (out of {P})\", fontsize=10)\n",
    "    plt.savefig(f\"N_{N}_P_{P}_.{format_fig}\")"
   ]
  },
  {
   "cell_type": "code",
   "execution_count": 4,
   "metadata": {
    "Collapsed": "false"
   },
   "outputs": [],
   "source": [
    "# Function to distribute particles in compartments and calculate the distribution.\n",
    "# It also calculates the analytical distribution.\n",
    "\n",
    "def divide_particles_compartment(N=100, P=5, Ncycles=10000):\n",
    "    # Print to screen\n",
    "    print(f\"Number of particles: {N}\")\n",
    "    print(f\"Number of compartments: {P}\")\n",
    "    print(f\"Number of cycles (for average): {Ncycles}\")\n",
    "\n",
    "    if (P < 2) | (P > 1000) | (N < 2) | (N > 1000):\n",
    "        print(\"Error in input parameters.\")\n",
    "        return -1\n",
    "\n",
    "    #  Initialize arrays\n",
    "    distribution = np.zeros(shape=(P, N), dtype=int)\n",
    "    particles_in_compartment = np.zeros(\n",
    "        shape=(P,), dtype=int\n",
    "    )     \n",
    "\n",
    "    # Distribute particles\n",
    "    for cycle in tqdm(range(Ncycles)):\n",
    "\n",
    "        # START EXERCISE (see below) \n",
    "        distribute_particles_over_compartments(N, P, particles_in_compartment)\n",
    "        # END EXERCISE\n",
    "\n",
    "        # Make a histogram (for the distribution)\n",
    "        for j in range(P):\n",
    "            distribution[j, particles_in_compartment[j]] += 1.0\n",
    "            particles_in_compartment[j] = 0\n",
    "\n",
    "    # Normalize distribution and average over compartments.\n",
    "    # This is the probability of having n particles in a compartment.\n",
    "    distribution = np.true_divide(distribution, Ncycles).mean(0)\n",
    "\n",
    "    # Calculate analytical distribution\n",
    "    analytical_distribution = np.fromfunction(\n",
    "        lambda x: np.exp(\n",
    "            large_num_factorial(N)\n",
    "            - large_num_factorial(x)\n",
    "            - large_num_factorial(N - x)\n",
    "            - x * np.log(P)\n",
    "            - (N - x) * np.log(P / (P - 1))\n",
    "        ),\n",
    "        (N,),\n",
    "        dtype=int,\n",
    "    )\n",
    "\n",
    "    return distribution, analytical_distribution"
   ]
  },
  {
   "cell_type": "code",
   "execution_count": 5,
   "metadata": {
    "Collapsed": "false"
   },
   "outputs": [],
   "source": [
    "def main(N, P):\n",
    "    # Calculate the distribution of N particles in P compartments\n",
    "    distribution, analytical_distribution = divide_particles_compartment(N=N, P=P)\n",
    "    # Plot the distributions\n",
    "    plot_distributions(distribution, analytical_distribution, N=N, P=P)"
   ]
  },
  {
   "cell_type": "markdown",
   "metadata": {
    "Collapsed": "false"
   },
   "source": [
    "# EXERCISE: complete the function below, needed for the function `divide_particles_compartment`"
   ]
  },
  {
   "cell_type": "code",
   "execution_count": null,
   "metadata": {
    "Collapsed": "false"
   },
   "outputs": [],
   "source": [
    "# Distribute particles over the compartments\n",
    "def distribute_particles_over_compartments(N, P, particles_in_compartment):\n",
    "    \"\"\"\n",
    "    N: Number of particles\n",
    "    P: Number of compartments\n",
    "    particles_in_compartment: array containing the number of particles per compartment\n",
    "    \n",
    "    Instructions:\n",
    "    - Loop over all particles, pick a random compartment, and add a particle to it.\n",
    "    - A random integer in the interval [0,N] can be generated using randint(0, N).\n",
    "    \n",
    "    NB: A python array with N elements is indexed from 0 to N-1     \n",
    "    \"\"\"\n",
    "    # Your code here...\n",
    "    return particles_in_compartment  "
   ]
  },
  {
   "cell_type": "markdown",
   "metadata": {
    "Collapsed": "false"
   },
   "source": [
    "# SOLUTION (execute this cell if you wish to see the solution)"
   ]
  },
  {
   "cell_type": "code",
   "execution_count": 6,
   "metadata": {
    "Collapsed": "false"
   },
   "outputs": [],
   "source": [
    "# %load solutions/particle_distribution.py\n",
    "def distribute_particles_over_compartments(N, P, particles_in_compartment):\n",
    "    \"\"\"\n",
    "    N: Number of particles\n",
    "    P: Number of compartments\n",
    "    particles_in_compartment: array containing the number of particles per compartment\n",
    "    \n",
    "    Instructions:\n",
    "    - Loop over all particles, pick a random compartment, and add a particle to it.\n",
    "    - A random integer in the interval [0,N] can be generated using randint(0, N).\n",
    "    \n",
    "    NB: A python array with N elements is indexed from 0 to N-1     \n",
    "    \"\"\"\n",
    "    for i in range(N):\n",
    "        random_index = randint(0, P - 1)\n",
    "        particles_in_compartment[random_index] += 1\n",
    "        \n",
    "    return particles_in_compartment  "
   ]
  },
  {
   "cell_type": "markdown",
   "metadata": {
    "Collapsed": "false"
   },
   "source": [
    "# Run the program"
   ]
  },
  {
   "cell_type": "code",
   "execution_count": 7,
   "metadata": {
    "Collapsed": "false"
   },
   "outputs": [
    {
     "name": "stdout",
     "output_type": "stream",
     "text": [
      "Number of particles: 200\n",
      "Number of compartments: 5\n",
      "Number of cycles (for average): 10000\n"
     ]
    },
    {
     "data": {
      "application/vnd.jupyter.widget-view+json": {
       "model_id": "fe4549c55f964153a70a336b59ca2d18",
       "version_major": 2,
       "version_minor": 0
      },
      "text/plain": [
       "HBox(children=(IntProgress(value=0, max=10000), HTML(value='')))"
      ]
     },
     "metadata": {},
     "output_type": "display_data"
    },
    {
     "name": "stdout",
     "output_type": "stream",
     "text": [
      "\n"
     ]
    },
    {
     "data": {
      "image/png": "[encoded data removed]",
      "text/plain": [
       "<Figure size 900x600 with 1 Axes>"
      ]
     },
     "metadata": {
      "needs_background": "light"
     },
     "output_type": "display_data"
    }
   ],
   "source": [
    "main(N=200, P=5)"
   ]
  },
  {
   "cell_type": "code",
   "execution_count": null,
   "metadata": {},
   "outputs": [],
   "source": []
  }
 ],
 "metadata": {
  "kernelspec": {
   "display_name": "Python 3",
   "language": "python",
   "name": "python3"
  },
  "language_info": {
   "codemirror_mode": {
    "name": "ipython",
    "version": 3
   },
   "file_extension": ".py",
   "mimetype": "text/x-python",
   "name": "python",
   "nbconvert_exporter": "python",
   "pygments_lexer": "ipython3",
   "version": "3.7.4"
  }
 },
 "nbformat": 4,
 "nbformat_minor": 4
}
